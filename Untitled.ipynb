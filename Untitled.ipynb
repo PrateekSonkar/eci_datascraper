{
 "cells": [
  {
   "cell_type": "code",
   "execution_count": 1,
   "metadata": {},
   "outputs": [],
   "source": [
    "import numpy as np;\n",
    "import pandas as pd;"
   ]
  },
  {
   "cell_type": "code",
   "execution_count": 2,
   "metadata": {},
   "outputs": [
    {
     "name": "stdout",
     "output_type": "stream",
     "text": [
      "The history saving thread hit an unexpected error (OperationalError('unable to open database file',)).History will not be written to the database.\n"
     ]
    }
   ],
   "source": [
    "import json;\n",
    "from pprint import pprint"
   ]
  },
  {
   "cell_type": "code",
   "execution_count": 3,
   "metadata": {},
   "outputs": [],
   "source": [
    "with open('outputsource.json') as f:\n",
    "    data = json.load(f)\n",
    "\n"
   ]
  },
  {
   "cell_type": "code",
   "execution_count": 35,
   "metadata": {},
   "outputs": [],
   "source": [
    "Results_DF = pd.DataFrame.from_dict(data['results'])"
   ]
  },
  {
   "cell_type": "code",
   "execution_count": 36,
   "metadata": {},
   "outputs": [
    {
     "data": {
      "text/plain": [
       "(9150, 4)"
      ]
     },
     "execution_count": 36,
     "metadata": {},
     "output_type": "execute_result"
    }
   ],
   "source": [
    "Results_DF.shape"
   ]
  },
  {
   "cell_type": "code",
   "execution_count": 37,
   "metadata": {},
   "outputs": [
    {
     "data": {
      "text/html": [
       "<div>\n",
       "<style scoped>\n",
       "    .dataframe tbody tr th:only-of-type {\n",
       "        vertical-align: middle;\n",
       "    }\n",
       "\n",
       "    .dataframe tbody tr th {\n",
       "        vertical-align: top;\n",
       "    }\n",
       "\n",
       "    .dataframe thead th {\n",
       "        text-align: right;\n",
       "    }\n",
       "</style>\n",
       "<table border=\"1\" class=\"dataframe\">\n",
       "  <thead>\n",
       "    <tr style=\"text-align: right;\">\n",
       "      <th></th>\n",
       "      <th>candidate</th>\n",
       "      <th>constituency</th>\n",
       "      <th>party</th>\n",
       "      <th>votes</th>\n",
       "    </tr>\n",
       "  </thead>\n",
       "  <tbody>\n",
       "    <tr>\n",
       "      <th>0</th>\n",
       "      <td>ROBERT ROMAWIA ROYTE</td>\n",
       "      <td>Mizoram - Aizawl East ii</td>\n",
       "      <td>Mizo National Front</td>\n",
       "      <td>5869</td>\n",
       "    </tr>\n",
       "    <tr>\n",
       "      <th>1</th>\n",
       "      <td>B LALCHHANZOVA</td>\n",
       "      <td>Mizoram - Aizawl East ii</td>\n",
       "      <td>Independent</td>\n",
       "      <td>4377</td>\n",
       "    </tr>\n",
       "    <tr>\n",
       "      <th>2</th>\n",
       "      <td>LALSAWTA</td>\n",
       "      <td>Mizoram - Aizawl East ii</td>\n",
       "      <td>Indian National Congress</td>\n",
       "      <td>3818</td>\n",
       "    </tr>\n",
       "    <tr>\n",
       "      <th>3</th>\n",
       "      <td>T LALMALSAWMI</td>\n",
       "      <td>Mizoram - Aizawl East ii</td>\n",
       "      <td>Bharatiya Janata Party</td>\n",
       "      <td>112</td>\n",
       "    </tr>\n",
       "    <tr>\n",
       "      <th>4</th>\n",
       "      <td>None of the Above</td>\n",
       "      <td>Mizoram - Aizawl East ii</td>\n",
       "      <td>None of the Above</td>\n",
       "      <td>47</td>\n",
       "    </tr>\n",
       "  </tbody>\n",
       "</table>\n",
       "</div>"
      ],
      "text/plain": [
       "              candidate              constituency                     party  \\\n",
       "0  ROBERT ROMAWIA ROYTE  Mizoram - Aizawl East ii       Mizo National Front   \n",
       "1        B LALCHHANZOVA  Mizoram - Aizawl East ii               Independent   \n",
       "2              LALSAWTA  Mizoram - Aizawl East ii  Indian National Congress   \n",
       "3         T LALMALSAWMI  Mizoram - Aizawl East ii    Bharatiya Janata Party   \n",
       "4     None of the Above  Mizoram - Aizawl East ii         None of the Above   \n",
       "\n",
       "  votes  \n",
       "0  5869  \n",
       "1  4377  \n",
       "2  3818  \n",
       "3   112  \n",
       "4    47  "
      ]
     },
     "execution_count": 37,
     "metadata": {},
     "output_type": "execute_result"
    }
   ],
   "source": [
    "Results_DF.head()"
   ]
  },
  {
   "cell_type": "code",
   "execution_count": 38,
   "metadata": {},
   "outputs": [],
   "source": [
    "#Method to split contituency to State & Constituency\n",
    "def splitToStateAndConstituency(x):\n",
    "    items =  x.split('-');\n",
    "    return items[0].strip(),items[1].strip()"
   ]
  },
  {
   "cell_type": "code",
   "execution_count": 39,
   "metadata": {},
   "outputs": [
    {
     "data": {
      "text/plain": [
       "0    Mizoram - Aizawl East ii\n",
       "Name: constituency, dtype: object"
      ]
     },
     "execution_count": 39,
     "metadata": {},
     "output_type": "execute_result"
    }
   ],
   "source": [
    "Results_DF[:1]['constituency']"
   ]
  },
  {
   "cell_type": "code",
   "execution_count": 11,
   "metadata": {},
   "outputs": [
    {
     "data": {
      "text/plain": [
       "['hi', 'there']"
      ]
     },
     "execution_count": 11,
     "metadata": {},
     "output_type": "execute_result"
    }
   ],
   "source": [
    "\"hi-there\".split('-')"
   ]
  },
  {
   "cell_type": "code",
   "execution_count": 40,
   "metadata": {},
   "outputs": [],
   "source": [
    "Results_DF['state'],Results_DF['constituency-unit'] = zip(*Results_DF['constituency'].apply(lambda x : splitToStateAndConstituency(x)))"
   ]
  },
  {
   "cell_type": "code",
   "execution_count": 41,
   "metadata": {},
   "outputs": [
    {
     "data": {
      "text/plain": [
       "(9150, 6)"
      ]
     },
     "execution_count": 41,
     "metadata": {},
     "output_type": "execute_result"
    }
   ],
   "source": [
    "Results_DF.shape"
   ]
  },
  {
   "cell_type": "code",
   "execution_count": 42,
   "metadata": {},
   "outputs": [
    {
     "data": {
      "text/plain": [
       "Index(['candidate', 'constituency', 'party', 'votes', 'state',\n",
       "       'constituency-unit'],\n",
       "      dtype='object')"
      ]
     },
     "execution_count": 42,
     "metadata": {},
     "output_type": "execute_result"
    }
   ],
   "source": [
    "Results_DF.columns"
   ]
  },
  {
   "cell_type": "code",
   "execution_count": 43,
   "metadata": {},
   "outputs": [
    {
     "data": {
      "text/html": [
       "<div>\n",
       "<style scoped>\n",
       "    .dataframe tbody tr th:only-of-type {\n",
       "        vertical-align: middle;\n",
       "    }\n",
       "\n",
       "    .dataframe tbody tr th {\n",
       "        vertical-align: top;\n",
       "    }\n",
       "\n",
       "    .dataframe thead th {\n",
       "        text-align: right;\n",
       "    }\n",
       "</style>\n",
       "<table border=\"1\" class=\"dataframe\">\n",
       "  <thead>\n",
       "    <tr style=\"text-align: right;\">\n",
       "      <th></th>\n",
       "      <th>candidate</th>\n",
       "      <th>constituency</th>\n",
       "      <th>party</th>\n",
       "      <th>votes</th>\n",
       "      <th>state</th>\n",
       "      <th>constituency-unit</th>\n",
       "    </tr>\n",
       "  </thead>\n",
       "  <tbody>\n",
       "    <tr>\n",
       "      <th>0</th>\n",
       "      <td>ROBERT ROMAWIA ROYTE</td>\n",
       "      <td>Mizoram - Aizawl East ii</td>\n",
       "      <td>Mizo National Front</td>\n",
       "      <td>5869</td>\n",
       "      <td>Mizoram</td>\n",
       "      <td>Aizawl East ii</td>\n",
       "    </tr>\n",
       "    <tr>\n",
       "      <th>1</th>\n",
       "      <td>B LALCHHANZOVA</td>\n",
       "      <td>Mizoram - Aizawl East ii</td>\n",
       "      <td>Independent</td>\n",
       "      <td>4377</td>\n",
       "      <td>Mizoram</td>\n",
       "      <td>Aizawl East ii</td>\n",
       "    </tr>\n",
       "    <tr>\n",
       "      <th>2</th>\n",
       "      <td>LALSAWTA</td>\n",
       "      <td>Mizoram - Aizawl East ii</td>\n",
       "      <td>Indian National Congress</td>\n",
       "      <td>3818</td>\n",
       "      <td>Mizoram</td>\n",
       "      <td>Aizawl East ii</td>\n",
       "    </tr>\n",
       "    <tr>\n",
       "      <th>3</th>\n",
       "      <td>T LALMALSAWMI</td>\n",
       "      <td>Mizoram - Aizawl East ii</td>\n",
       "      <td>Bharatiya Janata Party</td>\n",
       "      <td>112</td>\n",
       "      <td>Mizoram</td>\n",
       "      <td>Aizawl East ii</td>\n",
       "    </tr>\n",
       "    <tr>\n",
       "      <th>4</th>\n",
       "      <td>None of the Above</td>\n",
       "      <td>Mizoram - Aizawl East ii</td>\n",
       "      <td>None of the Above</td>\n",
       "      <td>47</td>\n",
       "      <td>Mizoram</td>\n",
       "      <td>Aizawl East ii</td>\n",
       "    </tr>\n",
       "  </tbody>\n",
       "</table>\n",
       "</div>"
      ],
      "text/plain": [
       "              candidate              constituency                     party  \\\n",
       "0  ROBERT ROMAWIA ROYTE  Mizoram - Aizawl East ii       Mizo National Front   \n",
       "1        B LALCHHANZOVA  Mizoram - Aizawl East ii               Independent   \n",
       "2              LALSAWTA  Mizoram - Aizawl East ii  Indian National Congress   \n",
       "3         T LALMALSAWMI  Mizoram - Aizawl East ii    Bharatiya Janata Party   \n",
       "4     None of the Above  Mizoram - Aizawl East ii         None of the Above   \n",
       "\n",
       "  votes    state constituency-unit  \n",
       "0  5869  Mizoram    Aizawl East ii  \n",
       "1  4377  Mizoram    Aizawl East ii  \n",
       "2  3818  Mizoram    Aizawl East ii  \n",
       "3   112  Mizoram    Aizawl East ii  \n",
       "4    47  Mizoram    Aizawl East ii  "
      ]
     },
     "execution_count": 43,
     "metadata": {},
     "output_type": "execute_result"
    }
   ],
   "source": [
    "Results_DF.head()"
   ]
  },
  {
   "cell_type": "code",
   "execution_count": null,
   "metadata": {},
   "outputs": [],
   "source": []
  },
  {
   "cell_type": "code",
   "execution_count": null,
   "metadata": {},
   "outputs": [],
   "source": []
  },
  {
   "cell_type": "code",
   "execution_count": null,
   "metadata": {},
   "outputs": [],
   "source": []
  }
 ],
 "metadata": {
  "kernelspec": {
   "display_name": "Python 3",
   "language": "python",
   "name": "python3"
  },
  "language_info": {
   "codemirror_mode": {
    "name": "ipython",
    "version": 3
   },
   "file_extension": ".py",
   "mimetype": "text/x-python",
   "name": "python",
   "nbconvert_exporter": "python",
   "pygments_lexer": "ipython3",
   "version": "3.6.4"
  }
 },
 "nbformat": 4,
 "nbformat_minor": 2
}
